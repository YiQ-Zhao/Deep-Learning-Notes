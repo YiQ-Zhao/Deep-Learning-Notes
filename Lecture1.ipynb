{
 "cells": [
  {
   "cell_type": "markdown",
   "metadata": {},
   "source": [
    "# Lecture 1"
   ]
  },
  {
   "cell_type": "markdown",
   "metadata": {},
   "source": [
    "**Convolutional neural network**: this single architecture is the best architecture for the vast majority of applications. The basic structure of the convolutional neural network is the convolutional.   \n",
    "[Architecture of Convolutional Neural Networks (CNNs) demystified](https://www.analyticsvidhya.com/blog/2017/06/architecture-of-convolutional-neural-networks-simplified-demystified/)  \n",
    "[Image Kernels, explained visually](http://setosa.io/ev/image-kernels/)  \n",
    "* When we work with deep learning images we're working always with metrices of numbers.  \n",
    "\n",
    "A neural network is simply something that has some kind of linear function followed by some kind of non-linearity and then we can just repeat that a couple of times. "
   ]
  },
  {
   "cell_type": "markdown",
   "metadata": {},
   "source": [
    "## First model: quick start\n",
    "We're going to use a pre-trained model, a model created by someone else to solve a different problem. Instead of building a model from scratch to solve a similar problem, we'll use a model trained on ImageNet (1.2 million images and 100 classes) as a starting point. The model is a Convolutional Neural Network, a type of neural network that builds state-of-the-art models for computer vision.   \n",
    "\n",
    "We will be using the **resnet34** model. It is a version of the model that won the 2015 ImageNet competition.   \n",
    "Here's how to train and evaluate a dogs vs cats model in 3 lines of code and under 20 seconds:"
   ]
  },
  {
   "cell_type": "code",
   "execution_count": null,
   "metadata": {},
   "outputs": [],
   "source": [
    "%%time\n",
    "data = ImageClassifierData.from_paths(PATH, tfms=tfms_from_model(resnet34, sz)) #put the pics in different folders under PATH. Need to look up the code again.\n",
    "# resnet34 here is a architecture, which can be changed to different ones.\n",
    "learn = ConvLearner.pretrained(resnet34, data, precompute=True)\n",
    "learn.fit(0.01, 1) # the first number is the learning rate. The sencond one is called the number of epoch s??\n",
    "# the second number means how many times you want the algorithm to reach each of your images"
   ]
  },
  {
   "cell_type": "markdown",
   "metadata": {},
   "source": [
    "### Choosing a learning rate\n",
    "The learning rate determines how quickly or how slowly you want to update the weights (or parameters). Learning rate is one of the most difficult parameters to set, because it significantly affect model performance.  \n",
    "\n",
    "The method `learn.lr_find()` helps you find an optimal learning rate. It uses the technique developed in the 2015 paper *Cyclical Learning Rates for Training Neural Networks*, where we simply keep increasing the learning rate from a very small value, until the loss starts decreasing. We can plot the learning rate across batches to see waht this looks like.  \n",
    "\n",
    "We first create a new learner, since we want to know how to set the learning rate for a new (untrained) model"
   ]
  },
  {
   "cell_type": "code",
   "execution_count": null,
   "metadata": {},
   "outputs": [],
   "source": [
    "learn = ConvLearner.pretrained(resnet34, data, precompute=True)\n",
    "lrf=learn.lr_find()"
   ]
  },
  {
   "cell_type": "markdown",
   "metadata": {},
   "source": [
    "Each iteration it's gone through the whole dataset once and looked at a few images at a time, which is called mini batch. And each mini batch gradually increased the learning rate. "
   ]
  },
  {
   "cell_type": "code",
   "execution_count": null,
   "metadata": {},
   "outputs": [],
   "source": [
    "learn.sched.plot_lr()\n",
    "learn.sched.plot() #can see the learning rate vs loss function plot"
   ]
  },
  {
   "cell_type": "markdown",
   "metadata": {},
   "source": [
    "You can change the number of pictures passed each time. For example, if you don't have enough memory in your GPU, then you can pass bs=32, which means each time you only pass 32 images. If you run out of  GPU memory you'll get an error, saying tried to allocate cooter? memory and failed. Then we need to change the batch size restart your kernel. So once you get a GPU error, it doesn't recover gracefully from it."
   ]
  }
 ],
 "metadata": {
  "kernelspec": {
   "display_name": "Python 2",
   "language": "python",
   "name": "python2"
  },
  "language_info": {
   "codemirror_mode": {
    "name": "ipython",
    "version": 2
   },
   "file_extension": ".py",
   "mimetype": "text/x-python",
   "name": "python",
   "nbconvert_exporter": "python",
   "pygments_lexer": "ipython2",
   "version": "2.7.13"
  }
 },
 "nbformat": 4,
 "nbformat_minor": 2
}
